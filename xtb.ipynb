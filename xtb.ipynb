{
  "nbformat": 4,
  "nbformat_minor": 0,
  "metadata": {
    "colab": {
      "name": "xtb.ipynb",
      "provenance": [],
      "collapsed_sections": [],
      "include_colab_link": true
    },
    "kernelspec": {
      "name": "python3",
      "display_name": "Python 3"
    },
    "language_info": {
      "name": "python"
    }
  },
  "cells": [
    {
      "cell_type": "markdown",
      "metadata": {
        "id": "view-in-github",
        "colab_type": "text"
      },
      "source": [
        "<a href=\"https://colab.research.google.com/github/saevrenk/qc/blob/main/xtb.ipynb\" target=\"_parent\"><img src=\"https://colab.research.google.com/assets/colab-badge.svg\" alt=\"Open In Colab\"/></a>"
      ]
    },
    {
      "cell_type": "markdown",
      "source": [
        "# Quantum Chemistry in the cloud using xTB code"
      ],
      "metadata": {
        "id": "qwnfaBBEARgF"
      }
    },
    {
      "cell_type": "markdown",
      "source": [
        "This notebook walks you through performing semiempirical quantum chemistry calculations  by setting up [xTB](https://xtb-docs.readthedocs.io/en/latest/contents.html#) code from Grimme Lab. \n",
        "\n",
        "This notebook is inspired by Prof. Jensen's presentation at [here](https://youtu.be/KEIpJ50Jc0w).\n",
        "Please open the notebook in colab to view the 3D molecular geometries. "
      ],
      "metadata": {
        "id": "PpWnfNq_Amux"
      }
    },
    {
      "cell_type": "markdown",
      "source": [
        "# Imports and setup:"
      ],
      "metadata": {
        "id": "ax36Hh3VEcz9"
      }
    },
    {
      "cell_type": "code",
      "source": [
        "%%capture\n",
        "!pip install -q condacolab\n",
        "import condacolab\n",
        "condacolab.install()"
      ],
      "metadata": {
        "id": "aiXuSjoACziM"
      },
      "execution_count": 1,
      "outputs": []
    },
    {
      "cell_type": "code",
      "source": [
        "%%capture\n",
        "!mamba install -c conda-forge rdkit\n",
        "!mamba install -c conda-forge xtb\n",
        "!pip install py3Dmol\n",
        "!pip install rdkit-pypi"
      ],
      "metadata": {
        "id": "j3cCXLbfFNfE"
      },
      "execution_count": 1,
      "outputs": []
    },
    {
      "cell_type": "code",
      "source": [
        "from rdkit import Chem\n",
        "from rdkit.Chem import AllChem\n",
        "from rdkit.Chem import Draw\n",
        "from rdkit.Chem.Draw import IPythonConsole\n",
        "from rdkit.Chem import PyMol\n",
        "\n",
        "IPythonConsole.ipython_3d = True\n",
        "import py3Dmol\n",
        "import matplotlib.pyplot as plt\n",
        "import subprocess\n",
        "import re \n",
        "import pandas as pd"
      ],
      "metadata": {
        "id": "bhRaFkC7FOqj"
      },
      "execution_count": 3,
      "outputs": []
    },
    {
      "cell_type": "markdown",
      "source": [
        "# Useful functions for working with rdkit and xtb:\n",
        "\n"
      ],
      "metadata": {
        "id": "K_x1VCAoGOq2"
      }
    },
    {
      "cell_type": "code",
      "source": [
        "def get_energy2(output): # in Hartree, from output file\n",
        "  with open(output,'r') as file:\n",
        "    data = file.read().replace('\\n', '') \n",
        "  return float(data.split('TOTAL ENERGY')[1].split('Eh')[0])\n",
        "\n",
        "def get_energy(output): # in Hartree\n",
        "  output = str(output)\n",
        "  energy = float(output.split('TOTAL ENERGY')[1].split('Eh')[0])\n",
        "  return energy\n",
        "\n",
        "def geo_converged(output):\n",
        "  output = str(output)\n",
        "  conv = output.split('GEOMETRY OPTIMIZATION CONVERGED')\n",
        "  if not conv:\n",
        "    return 0\n",
        "  else:\n",
        "    return 1\n",
        " \n",
        "def show_mol(file_name):\n",
        "  xyz=open(file_name, 'r').read()\n",
        "  p = py3Dmol.view(width=400,height=400)\n",
        "  p.addModel(xyz,'xyz')\n",
        "  p.setStyle({'stick':{}})\n",
        "  p.setBackgroundColor('0xeeeeee')\n",
        "  p.zoomTo()\n",
        "  p.show()\n",
        "\n",
        "def smiles2xyz(smiles, file_name='temp.xyz'):\n",
        "  # given a smiles string, write an xyz file to the directory\n",
        "  mol = Chem.MolFromSmiles(smiles)\n",
        "  mol = Chem.AddHs(mol)\n",
        "  AllChem.EmbedMolecule(mol)\n",
        "  AllChem.MMFFOptimizeMolecule(mol)\n",
        "  number_of_atoms = mol.GetNumAtoms()\n",
        "  symbols = [a.GetSymbol() for a in mol.GetAtoms()]   \n",
        "  with open(file_name, \"w\") as file:\n",
        "    file.write(str(number_of_atoms)+\"\\n\")\n",
        "    file.write(\"title\\n\")\n",
        "    conf = mol.GetConformers()[0]\n",
        "    for atom,symbol in enumerate(symbols):\n",
        "      p = conf.GetAtomPosition(atom)\n",
        "      line = \" \".join((symbol,str(p.x),str(p.y),str(p.z),\"\\n\"))\n",
        "      file.write(line)\n",
        "\n",
        "def shell(cmd, shell=False):\n",
        "  #Written by Jimmy Kromann\n",
        "  if shell:\n",
        "    p = subprocess.Popen(cmd, shell=True, stdin=subprocess.PIPE, stdout=subprocess.PIPE, stderr=subprocess.PIPE)\n",
        "  else:\n",
        "    cmd = cmd.split()\n",
        "    p = subprocess.Popen(cmd, stdin=subprocess.PIPE, stdout=subprocess.PIPE, stderr=subprocess.PIPE)\n",
        "\n",
        "  output, err = p.communicate()\n",
        "  return output"
      ],
      "metadata": {
        "id": "UCH2PpJ6FhYU"
      },
      "execution_count": 4,
      "outputs": []
    },
    {
      "cell_type": "markdown",
      "source": [
        "# GFN2-xTB geometry optimization \n",
        "To do geometry optimization, we need initial structures of molecules, we can start with smiles and generate an approximate molecular geometry. \n",
        "\n",
        "As an example, lets use canonical SMILES strings for benzene and some of its derivatives:"
      ],
      "metadata": {
        "id": "wp0lNnIQVot7"
      }
    },
    {
      "cell_type": "code",
      "source": [
        "names = ['benzene','aniline','phenol','benzoicacid']\n",
        "smi = ['C1=CC=CC=C1  ','C1=CC=C(C=C1)N','C1=CC=C(C=C1)O','C1=CC=C(C=C1)C(=O)O']"
      ],
      "metadata": {
        "id": "gnprh4SgVoNX"
      },
      "execution_count": 5,
      "outputs": []
    },
    {
      "cell_type": "code",
      "source": [
        "Draw.MolsToGridImage([Chem.MolFromSmiles(m) for m in smi])"
      ],
      "metadata": {
        "colab": {
          "base_uri": "https://localhost:8080/",
          "height": 417
        },
        "id": "f0BwIJfMWlZQ",
        "outputId": "5f4de149-521c-4f4c-9949-f9c18c364061"
      },
      "execution_count": 6,
      "outputs": [
        {
          "output_type": "execute_result",
          "data": {
            "text/plain": [
              "<IPython.core.display.Image object>"
            ],
            "image/png": "[encoded data removed]"
          },
          "metadata": {},
          "execution_count": 6
        }
      ]
    },
    {
      "cell_type": "markdown",
      "source": [
        "smiles2xyz function returns the 3D geometry of the lowest energy conformer of molecule with a given SMILES string "
      ],
      "metadata": {
        "id": "hnD9YJV1VnlH"
      }
    },
    {
      "cell_type": "code",
      "source": [
        "c = 0\n",
        "for smiles in smi:\n",
        "    smiles2xyz(smiles, names[c]+'.xyz')\n",
        "    c += 1"
      ],
      "metadata": {
        "id": "4zsIhrQ0ZPLG"
      },
      "execution_count": 7,
      "outputs": []
    },
    {
      "cell_type": "code",
      "source": [
        "# visualize initial xyz files\n",
        "show_mol('aniline.xyz')"
      ],
      "metadata": {
        "colab": {
          "base_uri": "https://localhost:8080/",
          "height": 417
        },
        "id": "MaCT9dM5goEE",
        "outputId": "d4ceab57-99ca-47fe-f22c-ad3fb64b5ed4"
      },
      "execution_count": 8,
      "outputs": [
        {
          "output_type": "display_data",
          "data": {
            "application/3dmoljs_load.v0": "<div id=\"3dmolviewer_1655921385038063\"  style=\"position: relative; width: 400px; height: 400px\">\n        <p id=\"3dmolwarning_1655921385038063\" style=\"background-color:#ffcccc;color:black\">You appear to be running in JupyterLab (or JavaScript failed to load for some other reason).  You need to install the 3dmol extension: <br>\n        <tt>jupyter labextension install jupyterlab_3dmol</tt></p>\n        </div>\n<script>\n\nvar loadScriptAsync = function(uri){\n  return new Promise((resolve, reject) => {\n    var tag = document.createElement('script');\n    tag.src = uri;\n    tag.async = true;\n    tag.onload = () => {\n      resolve();\n    };\n  var firstScriptTag = document.getElementsByTagName('script')[0];\n  firstScriptTag.parentNode.insertBefore(tag, firstScriptTag);\n});\n};\n\nif(typeof $3Dmolpromise === 'undefined') {\n$3Dmolpromise = null;\n  $3Dmolpromise = loadScriptAsync('https://3dmol.org/build/3Dmol.js');\n}\n\nvar viewer_1655921385038063 = null;\nvar warn = document.getElementById(\"3dmolwarning_1655921385038063\");\nif(warn) {\n    warn.parentNode.removeChild(warn);\n}\n$3Dmolpromise.then(function() {\nviewer_1655921385038063 = $3Dmol.createViewer($(\"#3dmolviewer_1655921385038063\"),{backgroundColor:\"white\"});\nviewer_1655921385038063.zoomTo();\n\tviewer_1655921385038063.addModel(\"14\\ntitle\\nC -1.8518168676887428 -0.20934802717135095 0.27531192578769687 \\nC -1.0567807162235265 -1.318407957348479 -0.0037071179782928224 \\nC 0.3138264020124809 -1.158188809039456 -0.2240867936142535 \\nC 0.9101779360976151 0.10171541410855925 -0.1265066715347015 \\nC 0.09293449189470411 1.2135495582556493 0.0936158548581574 \\nC -1.2782254697236681 1.059266321998148 0.31479108434190417 \\nN 2.2586234621688313 0.2723914823723167 -0.46310632452917416 \\nH -2.9188205991059486 -0.3309045054325536 0.4409004860219191 \\nH -1.5034463936680404 -2.3070402637065377 -0.06481277328726331 \\nH 0.9136110600644114 -2.0292948505568487 -0.472886459019665 \\nH 0.5184828139789112 2.213236600708758 0.09541542395636697 \\nH -1.8982062598270868 1.931535809477182 0.5029602689414293 \\nH 2.8273182658652685 -0.5513615022503793 -0.2954072715071652 \\nH 2.6723218741548114 1.11285072858497 -0.07248163243697997 \\n\",\"xyz\");\n\tviewer_1655921385038063.setStyle({\"stick\": {}});\n\tviewer_1655921385038063.setBackgroundColor(\"0xeeeeee\");\n\tviewer_1655921385038063.zoomTo();\nviewer_1655921385038063.render();\n});\n</script>",
            "text/html": [
              "<div id=\"3dmolviewer_1655921385038063\"  style=\"position: relative; width: 400px; height: 400px\">\n",
              "        <p id=\"3dmolwarning_1655921385038063\" style=\"background-color:#ffcccc;color:black\">You appear to be running in JupyterLab (or JavaScript failed to load for some other reason).  You need to install the 3dmol extension: <br>\n",
              "        <tt>jupyter labextension install jupyterlab_3dmol</tt></p>\n",
              "        </div>\n",
              "<script>\n",
              "\n",
              "var loadScriptAsync = function(uri){\n",
              "  return new Promise((resolve, reject) => {\n",
              "    var tag = document.createElement('script');\n",
              "    tag.src = uri;\n",
              "    tag.async = true;\n",
              "    tag.onload = () => {\n",
              "      resolve();\n",
              "    };\n",
              "  var firstScriptTag = document.getElementsByTagName('script')[0];\n",
              "  firstScriptTag.parentNode.insertBefore(tag, firstScriptTag);\n",
              "});\n",
              "};\n",
              "\n",
              "if(typeof $3Dmolpromise === 'undefined') {\n",
              "$3Dmolpromise = null;\n",
              "  $3Dmolpromise = loadScriptAsync('https://3dmol.org/build/3Dmol.js');\n",
              "}\n",
              "\n",
              "var viewer_1655921385038063 = null;\n",
              "var warn = document.getElementById(\"3dmolwarning_1655921385038063\");\n",
              "if(warn) {\n",
              "    warn.parentNode.removeChild(warn);\n",
              "}\n",
              "$3Dmolpromise.then(function() {\n",
              "viewer_1655921385038063 = $3Dmol.createViewer($(\"#3dmolviewer_1655921385038063\"),{backgroundColor:\"white\"});\n",
              "viewer_1655921385038063.zoomTo();\n",
              "\tviewer_1655921385038063.addModel(\"14\\ntitle\\nC -1.8518168676887428 -0.20934802717135095 0.27531192578769687 \\nC -1.0567807162235265 -1.318407957348479 -0.0037071179782928224 \\nC 0.3138264020124809 -1.158188809039456 -0.2240867936142535 \\nC 0.9101779360976151 0.10171541410855925 -0.1265066715347015 \\nC 0.09293449189470411 1.2135495582556493 0.0936158548581574 \\nC -1.2782254697236681 1.059266321998148 0.31479108434190417 \\nN 2.2586234621688313 0.2723914823723167 -0.46310632452917416 \\nH -2.9188205991059486 -0.3309045054325536 0.4409004860219191 \\nH -1.5034463936680404 -2.3070402637065377 -0.06481277328726331 \\nH 0.9136110600644114 -2.0292948505568487 -0.472886459019665 \\nH 0.5184828139789112 2.213236600708758 0.09541542395636697 \\nH -1.8982062598270868 1.931535809477182 0.5029602689414293 \\nH 2.8273182658652685 -0.5513615022503793 -0.2954072715071652 \\nH 2.6723218741548114 1.11285072858497 -0.07248163243697997 \\n\",\"xyz\");\n",
              "\tviewer_1655921385038063.setStyle({\"stick\": {}});\n",
              "\tviewer_1655921385038063.setBackgroundColor(\"0xeeeeee\");\n",
              "\tviewer_1655921385038063.zoomTo();\n",
              "viewer_1655921385038063.render();\n",
              "});\n",
              "</script>"
            ]
          },
          "metadata": {}
        }
      ]
    },
    {
      "cell_type": "markdown",
      "source": [
        "In the following shell we optimize geometry with GFN2-xTB (thight threshold) and check convergence. If geometry is converged save energy and optimized coordinates."
      ],
      "metadata": {
        "id": "iA6r9RaooErB"
      }
    },
    {
      "cell_type": "markdown",
      "source": [
        "\n",
        "NOTE: xtb generates the following files in the current directory:\n",
        "* **wbo**: Wiberg bond order printout\n",
        "* **xtbopt.xyz**: optimized geometry in xyz format\n",
        "* **xtbrestart**: binary restart file (default is true for restart!)\n",
        "* **xtbtopo.mol**: optimized geometry in mol format"
      ],
      "metadata": {
        "id": "GesHGQ8-AkLc"
      }
    },
    {
      "cell_type": "code",
      "source": [
        "opt_level = 'tight'\n",
        "energy = {}\n",
        "for molname in names:\n",
        "  output = shell('xtb '+molname+'.xyz  --opt '+opt_level)\n",
        "  if geo_converged(output):\n",
        "    energy[molname] = get_energy(output)\n",
        "    shell('cp xtbopt.xyz '+molname+'_opt.xyz')"
      ],
      "metadata": {
        "id": "SYvjx_-mkP7q"
      },
      "execution_count": 9,
      "outputs": []
    },
    {
      "cell_type": "code",
      "source": [
        "energy"
      ],
      "metadata": {
        "colab": {
          "base_uri": "https://localhost:8080/"
        },
        "id": "OQssNP-PdGmK",
        "outputId": "7cc192fa-627d-4de3-9c46-2bc2b13571b6"
      },
      "execution_count": 10,
      "outputs": [
        {
          "output_type": "execute_result",
          "data": {
            "text/plain": [
              "{'aniline': -19.316691776239,\n",
              " 'benzene': -15.879640657415,\n",
              " 'benzoicacid': -26.173034346138,\n",
              " 'phenol': -19.954146323168}"
            ]
          },
          "metadata": {},
          "execution_count": 10
        }
      ]
    },
    {
      "cell_type": "markdown",
      "source": [
        "Visualize the optimized structures"
      ],
      "metadata": {
        "id": "6n3VDC_Q6r1S"
      }
    },
    {
      "cell_type": "code",
      "source": [
        "# read xyz files into strings\n",
        "benzene = open('benzene_opt.xyz', 'r').read()\n",
        "aniline = open('aniline_opt.xyz', 'r').read()\n",
        "phenol = open('phenol_opt.xyz', 'r').read()\n",
        "benzoicacid = open('benzoicacid_opt.xyz', 'r').read()"
      ],
      "metadata": {
        "id": "GisVTBddlZNm"
      },
      "execution_count": 11,
      "outputs": []
    },
    {
      "cell_type": "code",
      "source": [
        "# we can have a grid view py3Dmol:\n",
        "view = py3Dmol.view(viewergrid=(2,2))\n",
        "view.addModel(benzene,'xyz',viewer=(0,0))\n",
        "view.addModel(aniline,'xyz',viewer=(0,1))\n",
        "view.addModel(phenol,'xyz',viewer=(1,0))\n",
        "view.addModel(benzoicacid,'xyz',viewer=(1,1))\n",
        "view.setStyle({'stick':{}})\n",
        "view.zoomTo()\n",
        "view.render()\n"
      ],
      "metadata": {
        "colab": {
          "base_uri": "https://localhost:8080/",
          "height": 515
        },
        "id": "pBOYHy2mlZoS",
        "outputId": "7ecebb14-1168-468c-98cb-b005fd5213b3"
      },
      "execution_count": 12,
      "outputs": [
        {
          "output_type": "display_data",
          "data": {
            "application/3dmoljs_load.v0": "<div id=\"3dmolviewer_16559214007378724\"  style=\"position: relative; width: 640px; height: 480px\">\n        <p id=\"3dmolwarning_16559214007378724\" style=\"background-color:#ffcccc;color:black\">You appear to be running in JupyterLab (or JavaScript failed to load for some other reason).  You need to install the 3dmol extension: <br>\n        <tt>jupyter labextension install jupyterlab_3dmol</tt></p>\n        </div>\n<script>\n\nvar loadScriptAsync = function(uri){\n  return new Promise((resolve, reject) => {\n    var tag = document.createElement('script');\n    tag.src = uri;\n    tag.async = true;\n    tag.onload = () => {\n      resolve();\n    };\n  var firstScriptTag = document.getElementsByTagName('script')[0];\n  firstScriptTag.parentNode.insertBefore(tag, firstScriptTag);\n});\n};\n\nif(typeof $3Dmolpromise === 'undefined') {\n$3Dmolpromise = null;\n  $3Dmolpromise = loadScriptAsync('https://3dmol.org/build/3Dmol.js');\n}\n\nvar viewer_16559214007378724 = null;\nvar warn = document.getElementById(\"3dmolwarning_16559214007378724\");\nif(warn) {\n    warn.parentNode.removeChild(warn);\n}\n$3Dmolpromise.then(function() {\nvar viewergrid_16559214007378724 = null;\nviewergrid_16559214007378724 = $3Dmol.createViewerGrid($(\"#3dmolviewer_16559214007378724\"),{rows: 2, cols: 2, control_all: true},{backgroundColor:\"white\"});\nviewer_16559214007378724 = viewergrid_16559214007378724[0][0];\nviewergrid_16559214007378724[0][0].zoomTo();viewergrid_16559214007378724[0][1].zoomTo();viewergrid_16559214007378724[1][0].zoomTo();viewergrid_16559214007378724[1][1].zoomTo();\tviewergrid_16559214007378724[0][0].addModel(\"12\\n energy: -15.879640657415 gnorm: 0.000006247947 xtb: 6.5.0 (97a52f5)\\nC            0.79786247230479       -1.13149151094976        0.01476405691500\\nC            1.37891491519270        0.12515841338215       -0.00210919522232\\nC            0.58105243289710        1.25664974148638       -0.01687603708512\\nC           -0.79786231957732        1.13149145267269       -0.01476964273162\\nC           -1.37891493930177       -0.12515816608966        0.00210361569602\\nC           -0.58105262969735       -1.25664980008720        0.01687047853456\\nH            1.42047804367770       -2.01445622763693        0.02629303302453\\nH            2.45495776668291        0.22282607276282       -0.00374771955455\\nH            1.03447974058410        2.23728241486360       -0.03003798526263\\nH           -1.42047816455461        2.01445626934195       -0.02628745825651\\nH           -2.45495774216590       -0.22282628630211        0.00375330235032\\nH           -1.03447957604236       -2.23728237344399        0.03004355159232\\n\",\"xyz\");\n\tviewergrid_16559214007378724[0][1].addModel(\"14\\n energy: -19.316691776239 gnorm: 0.000147074391 xtb: 6.5.0 (97a52f5)\\nC           -1.84845943726024       -0.20574067968651        0.25071663478488\\nC           -1.05183220349624       -1.30820483725718       -0.01061265275570\\nC            0.30578150237969       -1.15924329380050       -0.21382039443774\\nC            0.89367814678594        0.10480090457734       -0.16101237293131\\nC            0.08508375897833        1.21041052550747        0.10360313732918\\nC           -1.27167713678604        1.05229226020316        0.30558430519990\\nN            2.23784615910483        0.26688583822934       -0.43644984309930\\nH           -2.90893145701681       -0.32618648142172        0.41255424475251\\nH           -1.49134780932435       -2.29445184564769       -0.05290788096050\\nH            0.92518169198304       -2.02183087842582       -0.41703586018264\\nH            0.53256963707152        2.19368412023628        0.14764731298694\\nH           -1.88373872283068        1.91868879679865        0.51145725050603\\nH            2.81575614690190       -0.55125517680120       -0.33180730318343\\nH            2.66008972350913        1.12015074748837       -0.10791657800883\\n\",\"xyz\");\n\tviewergrid_16559214007378724[1][0].addModel(\"13\\n energy: -19.954146323168 gnorm: 0.000060593771 xtb: 6.5.0 (97a52f5)\\nC           -1.47446432546053        0.65081156328779        0.36069618789254\\nC           -1.44272103902113       -0.59462957791293       -0.24593328364514\\nC           -0.23747517308615       -1.18596518245931       -0.56963573116771\\nC            0.95509267978973       -0.52784106270459       -0.28532584932368\\nC            0.92435792656162        0.72107682048063        0.32296420786367\\nC           -0.28848104239325        1.30477284715488        0.64317898076607\\nO            2.12412946702391       -1.14076930483893       -0.61844377496266\\nH           -2.41901656073920        1.10884479461851        0.61175734703557\\nH           -2.36487085724132       -1.11036720366020       -0.46910407065964\\nH           -0.19460964238935       -2.15451239620476       -1.04194069108924\\nH            1.85200316414941        1.23358521049230        0.54439975866234\\nH           -0.30293747173792        2.27584376221817        1.11585970531169\\nH            2.86899287454454       -0.58085027047146       -0.36847278668386\\n\",\"xyz\");\n\tviewergrid_16559214007378724[1][1].addModel(\"15\\n energy: -26.173034346138 gnorm: 0.000062582617 xtb: 6.5.0 (97a52f5)\\nC           -2.16328751564282        0.00412245961849        0.16880364135088\\nC           -1.41639023210710       -1.15255924846677        0.32922449213729\\nC           -0.03950141313150       -1.11271726819276        0.21374524458750\\nC            0.59535281155804        0.09515140358786       -0.06468372124283\\nC           -0.15875373479248        1.25604932522014       -0.22533765592181\\nC           -1.53421347984742        1.20807642686737       -0.10843127116639\\nC            2.06496273547503        0.18753546298429       -0.19737863794180\\nO            2.67113388460685        1.20263797225152       -0.43706650505722\\nO            2.69391389870060       -0.98729923819195       -0.02427536189498\\nH           -3.23896289608576       -0.03306682255595        0.26016821725404\\nH           -1.91093662571736       -2.08804022692268        0.54508883423337\\nH            0.55010718244642       -2.00758676057554        0.33693253279343\\nH            0.35512589036147        2.18061361831374       -0.44065091338547\\nH           -2.11872853605450        2.10739040517652       -0.23285931938616\\nH            3.65017803023055       -0.86030750911426       -0.12327957635987\\n\",\"xyz\");\n\tviewergrid_16559214007378724[0][0].setStyle({\"stick\": {}});\n\tviewergrid_16559214007378724[0][1].setStyle({\"stick\": {}});\n\tviewergrid_16559214007378724[1][0].setStyle({\"stick\": {}});\n\tviewergrid_16559214007378724[1][1].setStyle({\"stick\": {}});\n\tviewergrid_16559214007378724[0][0].zoomTo();\n\tviewergrid_16559214007378724[0][1].zoomTo();\n\tviewergrid_16559214007378724[1][0].zoomTo();\n\tviewergrid_16559214007378724[1][1].zoomTo();\n\tviewergrid_16559214007378724[0][0].render();\n\tviewergrid_16559214007378724[0][1].render();\n\tviewergrid_16559214007378724[1][0].render();\n\tviewergrid_16559214007378724[1][1].render();\nviewergrid_16559214007378724[1][1].render();\nviewergrid_16559214007378724[1][0].render();\nviewergrid_16559214007378724[0][1].render();\nviewergrid_16559214007378724[0][0].render();\n});\n</script>",
            "text/html": [
              "<div id=\"3dmolviewer_16559214007378724\"  style=\"position: relative; width: 640px; height: 480px\">\n",
              "        <p id=\"3dmolwarning_16559214007378724\" style=\"background-color:#ffcccc;color:black\">You appear to be running in JupyterLab (or JavaScript failed to load for some other reason).  You need to install the 3dmol extension: <br>\n",
              "        <tt>jupyter labextension install jupyterlab_3dmol</tt></p>\n",
              "        </div>\n",
              "<script>\n",
              "\n",
              "var loadScriptAsync = function(uri){\n",
              "  return new Promise((resolve, reject) => {\n",
              "    var tag = document.createElement('script');\n",
              "    tag.src = uri;\n",
              "    tag.async = true;\n",
              "    tag.onload = () => {\n",
              "      resolve();\n",
              "    };\n",
              "  var firstScriptTag = document.getElementsByTagName('script')[0];\n",
              "  firstScriptTag.parentNode.insertBefore(tag, firstScriptTag);\n",
              "});\n",
              "};\n",
              "\n",
              "if(typeof $3Dmolpromise === 'undefined') {\n",
              "$3Dmolpromise = null;\n",
              "  $3Dmolpromise = loadScriptAsync('https://3dmol.org/build/3Dmol.js');\n",
              "}\n",
              "\n",
              "var viewer_16559214007378724 = null;\n",
              "var warn = document.getElementById(\"3dmolwarning_16559214007378724\");\n",
              "if(warn) {\n",
              "    warn.parentNode.removeChild(warn);\n",
              "}\n",
              "$3Dmolpromise.then(function() {\n",
              "var viewergrid_16559214007378724 = null;\n",
              "viewergrid_16559214007378724 = $3Dmol.createViewerGrid($(\"#3dmolviewer_16559214007378724\"),{rows: 2, cols: 2, control_all: true},{backgroundColor:\"white\"});\n",
              "viewer_16559214007378724 = viewergrid_16559214007378724[0][0];\n",
              "viewergrid_16559214007378724[0][0].zoomTo();viewergrid_16559214007378724[0][1].zoomTo();viewergrid_16559214007378724[1][0].zoomTo();viewergrid_16559214007378724[1][1].zoomTo();\tviewergrid_16559214007378724[0][0].addModel(\"12\\n energy: -15.879640657415 gnorm: 0.000006247947 xtb: 6.5.0 (97a52f5)\\nC            0.79786247230479       -1.13149151094976        0.01476405691500\\nC            1.37891491519270        0.12515841338215       -0.00210919522232\\nC            0.58105243289710        1.25664974148638       -0.01687603708512\\nC           -0.79786231957732        1.13149145267269       -0.01476964273162\\nC           -1.37891493930177       -0.12515816608966        0.00210361569602\\nC           -0.58105262969735       -1.25664980008720        0.01687047853456\\nH            1.42047804367770       -2.01445622763693        0.02629303302453\\nH            2.45495776668291        0.22282607276282       -0.00374771955455\\nH            1.03447974058410        2.23728241486360       -0.03003798526263\\nH           -1.42047816455461        2.01445626934195       -0.02628745825651\\nH           -2.45495774216590       -0.22282628630211        0.00375330235032\\nH           -1.03447957604236       -2.23728237344399        0.03004355159232\\n\",\"xyz\");\n",
              "\tviewergrid_16559214007378724[0][1].addModel(\"14\\n energy: -19.316691776239 gnorm: 0.000147074391 xtb: 6.5.0 (97a52f5)\\nC           -1.84845943726024       -0.20574067968651        0.25071663478488\\nC           -1.05183220349624       -1.30820483725718       -0.01061265275570\\nC            0.30578150237969       -1.15924329380050       -0.21382039443774\\nC            0.89367814678594        0.10480090457734       -0.16101237293131\\nC            0.08508375897833        1.21041052550747        0.10360313732918\\nC           -1.27167713678604        1.05229226020316        0.30558430519990\\nN            2.23784615910483        0.26688583822934       -0.43644984309930\\nH           -2.90893145701681       -0.32618648142172        0.41255424475251\\nH           -1.49134780932435       -2.29445184564769       -0.05290788096050\\nH            0.92518169198304       -2.02183087842582       -0.41703586018264\\nH            0.53256963707152        2.19368412023628        0.14764731298694\\nH           -1.88373872283068        1.91868879679865        0.51145725050603\\nH            2.81575614690190       -0.55125517680120       -0.33180730318343\\nH            2.66008972350913        1.12015074748837       -0.10791657800883\\n\",\"xyz\");\n",
              "\tviewergrid_16559214007378724[1][0].addModel(\"13\\n energy: -19.954146323168 gnorm: 0.000060593771 xtb: 6.5.0 (97a52f5)\\nC           -1.47446432546053        0.65081156328779        0.36069618789254\\nC           -1.44272103902113       -0.59462957791293       -0.24593328364514\\nC           -0.23747517308615       -1.18596518245931       -0.56963573116771\\nC            0.95509267978973       -0.52784106270459       -0.28532584932368\\nC            0.92435792656162        0.72107682048063        0.32296420786367\\nC           -0.28848104239325        1.30477284715488        0.64317898076607\\nO            2.12412946702391       -1.14076930483893       -0.61844377496266\\nH           -2.41901656073920        1.10884479461851        0.61175734703557\\nH           -2.36487085724132       -1.11036720366020       -0.46910407065964\\nH           -0.19460964238935       -2.15451239620476       -1.04194069108924\\nH            1.85200316414941        1.23358521049230        0.54439975866234\\nH           -0.30293747173792        2.27584376221817        1.11585970531169\\nH            2.86899287454454       -0.58085027047146       -0.36847278668386\\n\",\"xyz\");\n",
              "\tviewergrid_16559214007378724[1][1].addModel(\"15\\n energy: -26.173034346138 gnorm: 0.000062582617 xtb: 6.5.0 (97a52f5)\\nC           -2.16328751564282        0.00412245961849        0.16880364135088\\nC           -1.41639023210710       -1.15255924846677        0.32922449213729\\nC           -0.03950141313150       -1.11271726819276        0.21374524458750\\nC            0.59535281155804        0.09515140358786       -0.06468372124283\\nC           -0.15875373479248        1.25604932522014       -0.22533765592181\\nC           -1.53421347984742        1.20807642686737       -0.10843127116639\\nC            2.06496273547503        0.18753546298429       -0.19737863794180\\nO            2.67113388460685        1.20263797225152       -0.43706650505722\\nO            2.69391389870060       -0.98729923819195       -0.02427536189498\\nH           -3.23896289608576       -0.03306682255595        0.26016821725404\\nH           -1.91093662571736       -2.08804022692268        0.54508883423337\\nH            0.55010718244642       -2.00758676057554        0.33693253279343\\nH            0.35512589036147        2.18061361831374       -0.44065091338547\\nH           -2.11872853605450        2.10739040517652       -0.23285931938616\\nH            3.65017803023055       -0.86030750911426       -0.12327957635987\\n\",\"xyz\");\n",
              "\tviewergrid_16559214007378724[0][0].setStyle({\"stick\": {}});\n",
              "\tviewergrid_16559214007378724[0][1].setStyle({\"stick\": {}});\n",
              "\tviewergrid_16559214007378724[1][0].setStyle({\"stick\": {}});\n",
              "\tviewergrid_16559214007378724[1][1].setStyle({\"stick\": {}});\n",
              "\tviewergrid_16559214007378724[0][0].zoomTo();\n",
              "\tviewergrid_16559214007378724[0][1].zoomTo();\n",
              "\tviewergrid_16559214007378724[1][0].zoomTo();\n",
              "\tviewergrid_16559214007378724[1][1].zoomTo();\n",
              "\tviewergrid_16559214007378724[0][0].render();\n",
              "\tviewergrid_16559214007378724[0][1].render();\n",
              "\tviewergrid_16559214007378724[1][0].render();\n",
              "\tviewergrid_16559214007378724[1][1].render();\n",
              "viewergrid_16559214007378724[1][1].render();\n",
              "viewergrid_16559214007378724[1][0].render();\n",
              "viewergrid_16559214007378724[0][1].render();\n",
              "viewergrid_16559214007378724[0][0].render();\n",
              "});\n",
              "</script>"
            ]
          },
          "metadata": {}
        },
        {
          "output_type": "execute_result",
          "data": {
            "text/plain": [
              "<py3Dmol.view at 0x7f554e0b8410>"
            ]
          },
          "metadata": {},
          "execution_count": 12
        }
      ]
    },
    {
      "cell_type": "markdown",
      "source": [
        "### Lets try GFN2-xTB optimization on a larger molecule: \n",
        "Proteolysis-targeting chimeras (PROTACs) selectively degrade targeted proteins by the ubiquitin-proteasome system. Here is one of them (ACS Med. Chem. Lett. 2019, 10, 10, 1367–1369) "
      ],
      "metadata": {
        "id": "DLX-T3xUgliM"
      }
    },
    {
      "cell_type": "code",
      "source": [
        "protac_smi = 'C[C@@H]1CC2=C(NC3=CC=CC=C23)[C@H](N1CC(C)(C)F)C1=C(F)C=C(OCCOCCOCCOCC(=O)N[C@H](C(=O)N2C[C@H](O)C[C@H]2C(=O)NCC2=CC=C(C=C2)C2=C(C)N=CS2)C(C)(C)C)C=C1F'\n",
        "protac = Chem.MolFromSmiles(protac_smi)\n",
        "protac"
      ],
      "metadata": {
        "id": "aaA9LcUr3xOW",
        "colab": {
          "base_uri": "https://localhost:8080/",
          "height": 167
        },
        "outputId": "20db2297-ca15-4530-ee7c-79a1ae80b7ca"
      },
      "execution_count": 13,
      "outputs": [
        {
          "output_type": "execute_result",
          "data": {
            "text/plain": [
              "<rdkit.Chem.rdchem.Mol at 0x7f554e0435d0>"
            ],
            "image/png": "[encoded data removed]"
          },
          "metadata": {},
          "execution_count": 13
        }
      ]
    },
    {
      "cell_type": "markdown",
      "source": [
        "Generate a conformer (mmff) and optimize it:"
      ],
      "metadata": {
        "id": "IOEQ1ZYWkRZf"
      }
    },
    {
      "cell_type": "code",
      "source": [
        "smiles2xyz(protac_smi, file_name='protac_conf0.xyz')"
      ],
      "metadata": {
        "id": "BKzGW5I6izRs"
      },
      "execution_count": 14,
      "outputs": []
    },
    {
      "cell_type": "code",
      "source": [
        "# optimize geometry with xtb\n",
        "output = shell('xtb protac_conf0.xyz --opt '+opt_level)"
      ],
      "metadata": {
        "id": "yrbY2aKJlLPT"
      },
      "execution_count": 15,
      "outputs": []
    },
    {
      "cell_type": "code",
      "source": [
        "# save optimized geometry\n",
        "shell('cp xtbopt.xyz protac_conf0_opt.xyz')"
      ],
      "metadata": {
        "colab": {
          "base_uri": "https://localhost:8080/"
        },
        "id": "-yPpTtztlnBJ",
        "outputId": "70f7b6b8-d37a-4962-bcff-34395680f6ff"
      },
      "execution_count": 16,
      "outputs": [
        {
          "output_type": "execute_result",
          "data": {
            "text/plain": [
              "b''"
            ]
          },
          "metadata": {},
          "execution_count": 16
        }
      ]
    },
    {
      "cell_type": "markdown",
      "source": [
        "Compare initial and optimized (gas phase) geometry:"
      ],
      "metadata": {
        "id": "bv6Avv5Jr-pI"
      }
    },
    {
      "cell_type": "code",
      "source": [
        "protac_rdkit = open('protac_conf0.xyz','r').read()\n",
        "protac_xtb = open('protac_conf0_opt.xyz','r').read()\n",
        "\n",
        "view = py3Dmol.view(viewergrid=(1,2))\n",
        "view.addModel(protac_rdkit,'xyz',viewer=(0,0))\n",
        "view.addModel(protac_xtb,'xyz',viewer=(0,1))\n",
        "\n",
        "view.setStyle({'stick':{}})\n",
        "view.zoomTo()\n",
        "view.render()\n"
      ],
      "metadata": {
        "colab": {
          "base_uri": "https://localhost:8080/",
          "height": 515
        },
        "id": "5dSebWc1rp5b",
        "outputId": "14a7538f-f91e-4f53-db19-01cb939daa43"
      },
      "execution_count": 17,
      "outputs": [
        {
          "output_type": "display_data",
          "data": {
            "application/3dmoljs_load.v0": "<div id=\"3dmolviewer_16559221313193858\"  style=\"position: relative; width: 640px; height: 480px\">\n        <p id=\"3dmolwarning_16559221313193858\" style=\"background-color:#ffcccc;color:black\">You appear to be running in JupyterLab (or JavaScript failed to load for some other reason).  You need to install the 3dmol extension: <br>\n        <tt>jupyter labextension install jupyterlab_3dmol</tt></p>\n        </div>\n<script>\n\nvar loadScriptAsync = function(uri){\n  return new Promise((resolve, reject) => {\n    var tag = document.createElement('script');\n    tag.src = uri;\n    tag.async = true;\n    tag.onload = () => {\n      resolve();\n    };\n  var firstScriptTag = document.getElementsByTagName('script')[0];\n  firstScriptTag.parentNode.insertBefore(tag, firstScriptTag);\n});\n};\n\nif(typeof $3Dmolpromise === 'undefined') {\n$3Dmolpromise = null;\n  $3Dmolpromise = loadScriptAsync('https://3dmol.org/build/3Dmol.js');\n}\n\nvar viewer_16559221313193858 = null;\nvar warn = document.getElementById(\"3dmolwarning_16559221313193858\");\nif(warn) {\n    warn.parentNode.removeChild(warn);\n}\n$3Dmolpromise.then(function() {\nvar viewergrid_16559221313193858 = null;\nviewergrid_16559221313193858 = $3Dmol.createViewerGrid($(\"#3dmolviewer_16559221313193858\"),{rows: 1, cols: 2, control_all: true},{backgroundColor:\"white\"});\nviewer_16559221313193858 = viewergrid_16559221313193858[0][0];\nviewergrid_16559221313193858[0][0].zoomTo();viewergrid_16559221313193858[0][1].zoomTo();\tviewergrid_16559221313193858[0][0].addModel(\"135\\ntitle\\nC -12.005536633163103 -0.4597297342319445 -2.0008146198916656 \\nC -11.364642129850317 -1.1105046177812188 -0.7605107241115792 \\nC -12.229569718699262 -0.8297484804893532 0.5089210820259528 \\nC -12.025298258228318 0.572635942985857 0.956132314072471 \\nC -10.863494494381138 1.2359093278247568 0.6280424761062507 \\nN -10.95080522771586 2.5049806857017423 1.1368141490174477 \\nC -12.162883502674878 2.672867616965603 1.770048772068458 \\nC -12.69455920806976 3.7991159376580232 2.4086575934155823 \\nC -13.97888669767236 3.6915110605765773 2.9535056045467285 \\nC -14.696656940162566 2.5013783878588263 2.864899321878484 \\nC -14.147807559854193 1.379848721895665 2.2355306417672085 \\nC -12.85889202858708 1.4654572331509734 1.674090931307611 \\nC -9.725020370509045 0.699294503382655 -0.19923976046821515 \\nN -9.93237801597306 -0.7516000759240207 -0.5272451107438813 \\nC -9.008837953403479 -1.2153544192028773 -1.584331039639076 \\nC -8.495977105158788 -2.6778366033255443 -1.5026387846577076 \\nC -9.525580533435095 -3.733527106725433 -1.8881357612529246 \\nC -7.877341983786094 -3.0055061293243686 -0.14447586541604074 \\nF -7.4782907047538165 -2.783122652611393 -2.4265091131471377 \\nC -8.400648797570634 0.9583387645669066 0.492236350241029 \\nC -7.5716316505015415 1.987755746242754 0.04367921258285094 \\nF -7.964918697652608 2.757230765269815 -0.9822407932234541 \\nC -6.33886603336159 2.2627591291203686 0.6375179495215341 \\nC -5.900932747711311 1.4959171863480343 1.712371803921356 \\nO -4.710854810968016 1.6203103526685727 2.372594596038686 \\nC -3.7357299332046066 2.5606621716865656 1.90498081606454 \\nC -2.840072669923378 1.9543098031956583 0.8205435808737407 \\nO -3.501868152154101 2.0246653133279326 -0.44540150851833776 \\nC -2.8553423196926464 1.2716702849808295 -1.4714785364452074 \\nC -1.5832922024289013 1.9499304627433196 -1.990590874617319 \\nO -1.1287694271816695 1.3907566958447917 -3.2231838233690024 \\nC -0.5338544933983974 0.09511181501562155 -3.132837124842515 \\nC 0.8926362220574526 0.14371037665621714 -2.5717056853473 \\nO 0.9052587227003784 0.13702079802119368 -1.1370269679814404 \\nC 0.9198582901449098 -1.173050590432691 -0.5734734780909134 \\nC 2.305980795287282 -1.8315649857819505 -0.5119665147300737 \\nO 2.4655986935732983 -3.005899041175379 -0.19671979559993336 \\nN 3.3410080014802563 -0.9917089972098062 -0.8395975055436369 \\nC 4.754122947423152 -1.3690163672902078 -0.767137901126053 \\nC 5.420373706276338 -0.17238523454541987 -0.04071857727602018 \\nO 5.093468047019753 0.9866691317676318 -0.32161465762501085 \\nN 6.390314920839629 -0.4131565926773179 0.9102019052266781 \\nC 6.694412939492992 -1.6984727912566557 1.5250559921282791 \\nC 7.781286740010396 -1.3827027814764281 2.5501888562657617 \\nO 7.783914926758802 -2.31582638511182 3.6137308585601944 \\nC 7.385939649443425 0.009146517744713954 3.0296632100074223 \\nC 6.8494452712395155 0.6926618973485356 1.7696614340454766 \\nC 7.940097537077688 1.5744790748796818 1.1348244048206044 \\nO 8.266009598109706 2.6531881516067086 1.624321881728131 \\nN 8.604131612918978 0.9996741950719068 0.07430752795025206 \\nC 9.63005762114821 1.694672125251521 -0.66140986320359 \\nC 11.006041812471674 1.3136844662421274 -0.1814075993060639 \\nC 11.563789756989529 1.9529471765687554 0.9342671489908599 \\nC 12.85668988127056 1.644522878058263 1.3599553568778024 \\nC 13.613746278074956 0.6850932842254996 0.6792425758881936 \\nC 13.04253063014143 0.007432408753850948 -0.4050109471078578 \\nC 11.74846396918507 0.3184423071340752 -0.8323003859749784 \\nC 14.989265007553911 0.40877276034001403 1.0826320367165196 \\nC 15.558571899715572 -0.7153549987396822 1.6658775554659053 \\nC 14.866213526341502 -1.969082363615891 2.0628630872898013 \\nN 16.92579551802207 -0.6207580031714244 1.9048648897497937 \\nC 17.366510140867987 0.5489969271665939 1.5021557684900557 \\nS 16.200820182856564 1.5991355701713772 0.8131636546971113 \\nC 5.350465233108884 -1.6723494333526363 -2.181236762287079 \\nC 5.290420926787143 -0.4466267306894455 -3.115765191380349 \\nC 6.816797100894488 -2.1267557578214698 -2.071479022575827 \\nC 4.564288665193129 -2.8240146121738303 -2.848952561859072 \\nC -6.729161836485001 0.48459989486567856 2.197271248195555 \\nC -7.964087305484373 0.22964634204704606 1.5987838306844178 \\nF -8.719453479537144 -0.7489464330791851 2.115181833155693 \\nH -11.996319959902012 0.6326661443303946 -1.9565505990139747 \\nH -11.509302878703604 -0.7635806505763545 -2.926312313020763 \\nH -13.053692384900359 -0.7726869482003293 -2.0910844609877373 \\nH -11.436592370868937 -2.190862801138682 -0.9074898275431466 \\nH -13.287665196441706 -1.0288098982269542 0.3080753738478387 \\nH -11.912048233138409 -1.5014676764997577 1.3153153806210574 \\nH -10.247809332742596 3.225473713715287 1.0443520908467303 \\nH -12.136349302654455 4.726812294295837 2.477945647566044 \\nH -14.420572659762145 4.553211744034213 3.444581396895999 \\nH -15.693806478196391 2.440952247850754 3.2924517975752554 \\nH -14.716350262168929 0.4569875915145198 2.1672627457762803 \\nH -9.751829757156596 1.2494030427056548 -1.1505615422598308 \\nH -8.098968729718068 -0.6017413173781349 -1.5743748684906809 \\nH -9.417146803055656 -1.0294071953337873 -2.5828746258234903 \\nH -10.262367296731512 -3.9090417163520366 -1.099791531767009 \\nH -10.046252126809934 -3.4515807318481198 -2.8082526243245742 \\nH -9.026829262397465 -4.6891803217988075 -2.08962804242248 \\nH -7.092535216903044 -2.284387686885299 0.10521508779469778 \\nH -8.625264848755535 -3.0086597778711797 0.6552559682152853 \\nH -7.397208079107455 -3.989218792562869 -0.170167230009309 \\nH -5.750314508075363 3.068546738978724 0.21629336477955063 \\nH -4.1911048816784335 3.5111669199242255 1.6030162323436992 \\nH -3.10733558042024 2.7803823426947947 2.7761746608829534 \\nH -1.9126098886467442 2.5328773734851633 0.7559247725359474 \\nH -2.6085913369560028 0.9108008322934767 1.0630905098965076 \\nH -3.5672556683318932 1.1782668690193088 -2.2996791015161526 \\nH -2.6573355743509457 0.2509689501261445 -1.124762970282971 \\nH -0.7891965957409718 1.949568056503545 -1.2384263346715096 \\nH -1.8070757582922912 3.005927550190887 -2.1848206304023785 \\nH -0.4772683075774317 -0.2704297692387549 -4.1630680474715485 \\nH -1.1777919458585788 -0.5915923741409187 -2.575168133757346 \\nH 1.4792134572597604 -0.6988032403174491 -2.9557895050713094 \\nH 1.3829830846264843 1.0712370431611187 -2.8860146694063022 \\nH 0.5678886075208432 -1.084367385936881 0.4598673467084197 \\nH 0.2345297815124394 -1.8358134864704783 -1.1138499243820883 \\nH 3.1254870981391565 0.0008011121469472522 -0.9380927487466882 \\nH 4.825814753422983 -2.264126544650657 -0.14355163447456384 \\nH 5.7857180081902655 -2.087685319537267 2.001718786435574 \\nH 7.029985120694003 -2.4225632413829197 0.7802489018678055 \\nH 8.768437407876585 -1.3692671348734875 2.0728557942793926 \\nH 8.450341769489494 -2.0241358077480944 4.261613869879568 \\nH 6.593949629322425 -0.06639032653071758 3.78483243327238 \\nH 8.227340244228303 0.5313048513470695 3.4995215791021006 \\nH 6.003408561094623 1.3473299537789702 2.0081904201685927 \\nH 8.22043629956145 0.14787994162277338 -0.30952229972921286 \\nH 9.5074239189032 1.4365427793993062 -1.7185606738350476 \\nH 9.489304217402703 2.7782152475763082 -0.5805991493764355 \\nH 10.995301843905201 2.712536260870022 1.469227821109106 \\nH 13.272036680757374 2.1665079783886125 2.2171211028157614 \\nH 13.614607553060534 -0.7486557055039781 -0.9410726727033162 \\nH 11.336265262861742 -0.19973529427513176 -1.693557894766378 \\nH 13.876280652136012 -1.758916775251009 2.482493383659591 \\nH 15.44407775012253 -2.502352183288906 2.8251812946548736 \\nH 14.749068279522755 -2.627737735306432 1.1981582860954885 \\nH 18.405269066597466 0.843696093662943 1.6035641759969947 \\nH 4.266990596464616 -0.07413346186788 -3.229461045265896 \\nH 5.65872044397439 -0.7001003674936072 -4.117105463017705 \\nH 5.913017829241349 0.37425778753159944 -2.7458835628957496 \\nH 7.227036767843015 -2.3743837584187046 -3.0579451640259494 \\nH 6.908718068095117 -3.022282364517678 -1.4481645451951592 \\nH 7.452646097085554 -1.3466664158937263 -1.6484371611159998 \\nH 5.0141304199121555 -3.104289430156901 -3.8087294515314363 \\nH 4.559790917166688 -3.7169229529518266 -2.2141561890234653 \\nH 3.5258180446510354 -2.546182823633882 -3.0513389937614384 \\nH -6.4196301557381465 -0.11847432081028855 3.0475215241143117 \\n\",\"xyz\");\n\tviewergrid_16559221313193858[0][1].addModel(\"135\\n energy: -212.169702618063 gnorm: 0.000157155514 xtb: 6.5.0 (97a52f5)\\nC           -7.23096055631610       -3.16009886113875        0.29727822770465\\nC           -6.17946726696826       -2.28056582566040        0.98971176602965\\nC           -6.71449606895854       -1.76937810448827        2.33509590266554\\nC           -7.76823522225435       -0.75657254046855        2.05256996108926\\nC           -7.78313501896895       -0.07736793345201        0.87209752003991\\nN           -8.84977092148273        0.78549919917650        0.83421517408075\\nC           -9.53952100407951        0.67300897339750        2.00987995651838\\nC          -10.68089584276928        1.32901037652304        2.44823772795587\\nC          -11.16682305705778        1.00215035580628        3.69665826602154\\nC          -10.53498718215444        0.04436127291506        4.49392823746026\\nC           -9.40168025561175       -0.61022011991873        4.06657261905320\\nC           -8.88628998226027       -0.30053469682132        2.80893476017799\\nC           -6.79327059046248       -0.23235941237395       -0.23403695412293\\nN           -5.72989211353779       -1.14480615128483        0.19059955909625\\nC           -4.80843673456095       -1.48769280457543       -0.87439921825705\\nC           -3.32159494877458       -1.29821607047828       -0.49575873030136\\nC           -2.68491363895717       -2.50751474646540        0.17047027333787\\nC           -3.07517127833470       -0.03836619372291        0.31865544227893\\nF           -2.66320036552765       -1.13200643726519       -1.73531798202543\\nC           -6.18301015357385        1.11199412932740       -0.57543510290029\\nC           -6.04688245661921        1.55546587464095       -1.88388690864749\\nF           -6.55974148110536        0.80058269017632       -2.88138119498028\\nC           -5.40644196226781        2.72578983576779       -2.24520084376523\\nC           -4.86664190249964        3.52979737254844       -1.24823844949940\\nO           -4.18880427755763        4.68511992198970       -1.45404523728840\\nC           -3.74417083068434        5.02537816115759       -2.75238050420057\\nC           -2.64846297190151        4.08366479563728       -3.28040642646390\\nO           -3.20926823363633        3.19174976279698       -4.22051932115387\\nC           -2.56934388484733        1.93949195745224       -4.31957037077271\\nC           -1.15662420796647        2.03336298935719       -4.92313629502475\\nO           -0.65867081447621        0.78713929922709       -5.36005029922632\\nC           -0.32426738401153       -0.13868686459336       -4.34776594212085\\nC            0.90892382448207        0.25756972025593       -3.51936435734672\\nO            0.68877308561141        1.26843025626987       -2.55009531478935\\nC           -0.00069856753662        0.84641959339276       -1.39433600066829\\nC            0.85730782718043        0.05256829531629       -0.40742121705453\\nO            0.36312722098743       -0.65960339265076        0.44584985477910\\nN            2.17758536831942        0.21672169789454       -0.58402178565754\\nC            3.16503809584569       -0.35474335381470        0.30297902891707\\nC            3.82062495507303        0.80905024802989        1.04297710189612\\nO            4.25183211753817        1.77689451681780        0.41863870033234\\nN            3.87740601700123        0.76131654776285        2.37850799469499\\nC            3.36713349749062       -0.27844084274140        3.25069064498974\\nC            3.73855615397059        0.18211711414694        4.66661018463956\\nO            2.77366365806202       -0.29140121340519        5.56826407238952\\nC            3.78550688277945        1.71094527992635        4.53065768653742\\nC            4.37981097724988        1.90389333916744        3.14416893292156\\nC            5.92457904561403        1.87114353547825        3.18813582352229\\nO            6.54363143741604        1.59300400863236        4.19510961493158\\nN            6.48129439010100        2.19818706505940        2.01387925281972\\nC            7.91296476424896        2.12079894859393        1.78604235724314\\nC            8.28976355408714        0.79020965734065        1.18766107298275\\nC            8.45743430553749       -0.31622530495812        2.01354165517938\\nC            8.77354219057169       -1.54773376570364        1.47979929521850\\nC            8.92572117025738       -1.71193348404840        0.10133571491523\\nC            8.75678441702411       -0.59999303098108       -0.72381480815018\\nC            8.43587127194628        0.63114309345125       -0.18365010728434\\nC            9.27538589329106       -3.01496304712943       -0.43672557296242\\nC            8.93272145383600       -3.61458460533575       -1.62663545807562\\nC            8.04887006528084       -3.06908286093531       -2.69594996684386\\nN            9.43929842601030       -4.86158763459059       -1.79970493796929\\nC           10.15225541372739       -5.24320775010810       -0.80722381377726\\nS           10.27850893608961       -4.10158686070521        0.48755552930461\\nC            4.20245618582128       -1.20889256263983       -0.47762786963564\\nC            4.80942780086890       -0.40467127582993       -1.62930016720167\\nC            5.31001580599000       -1.65129578309248        0.48067198000116\\nC            3.48968085180751       -2.44456007496535       -1.03188955782456\\nC           -5.02678272799008        3.15020578491145        0.08587393982604\\nC           -5.66232071209113        1.96675444359729        0.39465199635856\\nF           -5.75200164165911        1.63078160203760        1.69112095054406\\nH           -8.18780031641758       -2.64708771139523        0.24396372088685\\nH           -6.91750846212262       -3.41949057851318       -0.71189956741021\\nH           -7.36587237051206       -4.08092403030515        0.85883184348738\\nH           -5.28932017001274       -2.88902024277161        1.17364938903242\\nH           -7.11164768573982       -2.59890048576397        2.92198985119452\\nH           -5.89984856294432       -1.30826592851799        2.90015633523152\\nH           -9.07019213145117        1.41272472679145        0.07977369296832\\nH          -11.16940256500059        2.07001830330459        1.83195305924593\\nH          -12.05322081106979        1.49492577337252        4.06830980063796\\nH          -10.94975085299689       -0.18121632626296        5.46565791833900\\nH           -8.91680689191558       -1.34742595266840        4.68901883038719\\nH           -7.31242120556707       -0.60778160301203       -1.13811478911813\\nH           -4.98631434783006       -0.83983800047632       -1.73549354553324\\nH           -4.94452869244983       -2.52099296460391       -1.22081759326918\\nH           -3.10197299628383       -2.64057270451022        1.16320930312112\\nH           -2.85162875160382       -3.40631778022229       -0.41935039844005\\nH           -1.61384110099403       -2.33769188211547        0.26358453209034\\nH           -3.27918926296332        0.84414613232789       -0.28377528637937\\nH           -3.73702288011848       -0.04005303414779        1.17789763113515\\nH           -2.04110847854526       -0.01521770993592        0.65405849359819\\nH           -5.31323174083279        2.96109521750432       -3.29201160248200\\nH           -4.57074378859417        5.04695270714062       -3.47028001514898\\nH           -3.34884471936293        6.03588921201659       -2.63520205884331\\nH           -1.85144960437404        4.67272556182477       -3.75204952317546\\nH           -2.21670269978653        3.53207431809566       -2.43439640514814\\nH           -3.20076733901456        1.34180386386524       -4.98169826322647\\nH           -2.53703022544653        1.46116740148925       -3.32992178252794\\nH           -0.46704323760247        2.49852210786843       -4.20900867700825\\nH           -1.20485518610953        2.64833667777522       -5.82608164525306\\nH           -0.08443059369165       -1.05652011363218       -4.88976413311882\\nH           -1.17910717998815       -0.34119581751863       -3.69414009647179\\nH            1.30476423121825       -0.64616224918668       -3.03829511326805\\nH            1.66619935070153        0.67029876430994       -4.19143210323104\\nH           -0.32931664752334        1.75985812319971       -0.88719472755073\\nH           -0.88206039793998        0.24792694249479       -1.63523999158594\\nH            2.49366635194650        0.93714653444852       -1.21907774943062\\nH            2.61507953217998       -0.99887013224743        0.99274231939368\\nH            2.27564036407959       -0.35076254754965        3.18789411304900\\nH            3.80592434850060       -1.24888428348469        3.01850661007634\\nH            4.73835728452616       -0.18728243315576        4.93367995792810\\nH            3.01496774328407       -0.01491246267532        6.45847060849855\\nH            2.77235861186135        2.11060823261022        4.58344782560857\\nH            4.40930792567950        2.17301781174164        5.29326750798977\\nH            4.06145303778878        2.83077868426026        2.65575819772464\\nH            5.86878944314989        2.30798169060164        1.20938058851155\\nH            8.20103827818891        2.94012649098720        1.12321758206184\\nH            8.39691231242043        2.24511727102890        2.75818703705329\\nH            8.33798696302640       -0.20193321269829        3.08053186306226\\nH            8.90522977354298       -2.39966365380357        2.13095920543456\\nH            8.90869197150015       -0.69084101139966       -1.78724089636512\\nH            8.31282568101460        1.48276572406236       -0.83733993365838\\nH            7.30820949748366       -2.39133883913986       -2.27915838225163\\nH            7.55119773379479       -3.89806749354066       -3.19306413451489\\nH            8.63554938855370       -2.53403025179048       -3.44259562895795\\nH           10.64242524375066       -6.19432468948029       -0.75062071983540\\nH            4.07539662768478       -0.23208385472862       -2.41281356491161\\nH            5.64158396679327       -0.95231631586031       -2.06441381349234\\nH            5.17878219647281        0.55415478173449       -1.27652283674439\\nH            6.02935990594419       -2.27594704014301       -0.04371914728222\\nH            4.90185861398408       -2.23398587916865        1.30318001282101\\nH            5.84431272229480       -0.79586835319292        0.88758130705590\\nH            4.17954696298571       -3.04049762235855       -1.62447161279838\\nH            3.10512914356612       -3.06293752364986       -0.22424187530489\\nH            2.65348764581768       -2.15606612233419       -1.66441307273856\\nH           -4.62967176275575        3.77229762730365        0.87051497552212\\n\",\"xyz\");\n\tviewergrid_16559221313193858[0][0].setStyle({\"stick\": {}});\n\tviewergrid_16559221313193858[0][1].setStyle({\"stick\": {}});\n\tviewergrid_16559221313193858[0][0].zoomTo();\n\tviewergrid_16559221313193858[0][1].zoomTo();\n\tviewergrid_16559221313193858[0][0].render();\n\tviewergrid_16559221313193858[0][1].render();\nviewergrid_16559221313193858[0][1].render();\nviewergrid_16559221313193858[0][0].render();\n});\n</script>",
            "text/html": [
              "<div id=\"3dmolviewer_16559221313193858\"  style=\"position: relative; width: 640px; height: 480px\">\n",
              "        <p id=\"3dmolwarning_16559221313193858\" style=\"background-color:#ffcccc;color:black\">You appear to be running in JupyterLab (or JavaScript failed to load for some other reason).  You need to install the 3dmol extension: <br>\n",
              "        <tt>jupyter labextension install jupyterlab_3dmol</tt></p>\n",
              "        </div>\n",
              "<script>\n",
              "\n",
              "var loadScriptAsync = function(uri){\n",
              "  return new Promise((resolve, reject) => {\n",
              "    var tag = document.createElement('script');\n",
              "    tag.src = uri;\n",
              "    tag.async = true;\n",
              "    tag.onload = () => {\n",
              "      resolve();\n",
              "    };\n",
              "  var firstScriptTag = document.getElementsByTagName('script')[0];\n",
              "  firstScriptTag.parentNode.insertBefore(tag, firstScriptTag);\n",
              "});\n",
              "};\n",
              "\n",
              "if(typeof $3Dmolpromise === 'undefined') {\n",
              "$3Dmolpromise = null;\n",
              "  $3Dmolpromise = loadScriptAsync('https://3dmol.org/build/3Dmol.js');\n",
              "}\n",
              "\n",
              "var viewer_16559221313193858 = null;\n",
              "var warn = document.getElementById(\"3dmolwarning_16559221313193858\");\n",
              "if(warn) {\n",
              "    warn.parentNode.removeChild(warn);\n",
              "}\n",
              "$3Dmolpromise.then(function() {\n",
              "var viewergrid_16559221313193858 = null;\n",
              "viewergrid_16559221313193858 = $3Dmol.createViewerGrid($(\"#3dmolviewer_16559221313193858\"),{rows: 1, cols: 2, control_all: true},{backgroundColor:\"white\"});\n",
              "viewer_16559221313193858 = viewergrid_16559221313193858[0][0];\n",
              "viewergrid_16559221313193858[0][0].zoomTo();viewergrid_16559221313193858[0][1].zoomTo();\tviewergrid_16559221313193858[0][0].addModel(\"135\\ntitle\\nC -12.005536633163103 -0.4597297342319445 -2.0008146198916656 \\nC -11.364642129850317 -1.1105046177812188 -0.7605107241115792 \\nC -12.229569718699262 -0.8297484804893532 0.5089210820259528 \\nC -12.025298258228318 0.572635942985857 0.956132314072471 \\nC -10.863494494381138 1.2359093278247568 0.6280424761062507 \\nN -10.95080522771586 2.5049806857017423 1.1368141490174477 \\nC -12.162883502674878 2.672867616965603 1.770048772068458 \\nC -12.69455920806976 3.7991159376580232 2.4086575934155823 \\nC -13.97888669767236 3.6915110605765773 2.9535056045467285 \\nC -14.696656940162566 2.5013783878588263 2.864899321878484 \\nC -14.147807559854193 1.379848721895665 2.2355306417672085 \\nC -12.85889202858708 1.4654572331509734 1.674090931307611 \\nC -9.725020370509045 0.699294503382655 -0.19923976046821515 \\nN -9.93237801597306 -0.7516000759240207 -0.5272451107438813 \\nC -9.008837953403479 -1.2153544192028773 -1.584331039639076 \\nC -8.495977105158788 -2.6778366033255443 -1.5026387846577076 \\nC -9.525580533435095 -3.733527106725433 -1.8881357612529246 \\nC -7.877341983786094 -3.0055061293243686 -0.14447586541604074 \\nF -7.4782907047538165 -2.783122652611393 -2.4265091131471377 \\nC -8.400648797570634 0.9583387645669066 0.492236350241029 \\nC -7.5716316505015415 1.987755746242754 0.04367921258285094 \\nF -7.964918697652608 2.757230765269815 -0.9822407932234541 \\nC -6.33886603336159 2.2627591291203686 0.6375179495215341 \\nC -5.900932747711311 1.4959171863480343 1.712371803921356 \\nO -4.710854810968016 1.6203103526685727 2.372594596038686 \\nC -3.7357299332046066 2.5606621716865656 1.90498081606454 \\nC -2.840072669923378 1.9543098031956583 0.8205435808737407 \\nO -3.501868152154101 2.0246653133279326 -0.44540150851833776 \\nC -2.8553423196926464 1.2716702849808295 -1.4714785364452074 \\nC -1.5832922024289013 1.9499304627433196 -1.990590874617319 \\nO -1.1287694271816695 1.3907566958447917 -3.2231838233690024 \\nC -0.5338544933983974 0.09511181501562155 -3.132837124842515 \\nC 0.8926362220574526 0.14371037665621714 -2.5717056853473 \\nO 0.9052587227003784 0.13702079802119368 -1.1370269679814404 \\nC 0.9198582901449098 -1.173050590432691 -0.5734734780909134 \\nC 2.305980795287282 -1.8315649857819505 -0.5119665147300737 \\nO 2.4655986935732983 -3.005899041175379 -0.19671979559993336 \\nN 3.3410080014802563 -0.9917089972098062 -0.8395975055436369 \\nC 4.754122947423152 -1.3690163672902078 -0.767137901126053 \\nC 5.420373706276338 -0.17238523454541987 -0.04071857727602018 \\nO 5.093468047019753 0.9866691317676318 -0.32161465762501085 \\nN 6.390314920839629 -0.4131565926773179 0.9102019052266781 \\nC 6.694412939492992 -1.6984727912566557 1.5250559921282791 \\nC 7.781286740010396 -1.3827027814764281 2.5501888562657617 \\nO 7.783914926758802 -2.31582638511182 3.6137308585601944 \\nC 7.385939649443425 0.009146517744713954 3.0296632100074223 \\nC 6.8494452712395155 0.6926618973485356 1.7696614340454766 \\nC 7.940097537077688 1.5744790748796818 1.1348244048206044 \\nO 8.266009598109706 2.6531881516067086 1.624321881728131 \\nN 8.604131612918978 0.9996741950719068 0.07430752795025206 \\nC 9.63005762114821 1.694672125251521 -0.66140986320359 \\nC 11.006041812471674 1.3136844662421274 -0.1814075993060639 \\nC 11.563789756989529 1.9529471765687554 0.9342671489908599 \\nC 12.85668988127056 1.644522878058263 1.3599553568778024 \\nC 13.613746278074956 0.6850932842254996 0.6792425758881936 \\nC 13.04253063014143 0.007432408753850948 -0.4050109471078578 \\nC 11.74846396918507 0.3184423071340752 -0.8323003859749784 \\nC 14.989265007553911 0.40877276034001403 1.0826320367165196 \\nC 15.558571899715572 -0.7153549987396822 1.6658775554659053 \\nC 14.866213526341502 -1.969082363615891 2.0628630872898013 \\nN 16.92579551802207 -0.6207580031714244 1.9048648897497937 \\nC 17.366510140867987 0.5489969271665939 1.5021557684900557 \\nS 16.200820182856564 1.5991355701713772 0.8131636546971113 \\nC 5.350465233108884 -1.6723494333526363 -2.181236762287079 \\nC 5.290420926787143 -0.4466267306894455 -3.115765191380349 \\nC 6.816797100894488 -2.1267557578214698 -2.071479022575827 \\nC 4.564288665193129 -2.8240146121738303 -2.848952561859072 \\nC -6.729161836485001 0.48459989486567856 2.197271248195555 \\nC -7.964087305484373 0.22964634204704606 1.5987838306844178 \\nF -8.719453479537144 -0.7489464330791851 2.115181833155693 \\nH -11.996319959902012 0.6326661443303946 -1.9565505990139747 \\nH -11.509302878703604 -0.7635806505763545 -2.926312313020763 \\nH -13.053692384900359 -0.7726869482003293 -2.0910844609877373 \\nH -11.436592370868937 -2.190862801138682 -0.9074898275431466 \\nH -13.287665196441706 -1.0288098982269542 0.3080753738478387 \\nH -11.912048233138409 -1.5014676764997577 1.3153153806210574 \\nH -10.247809332742596 3.225473713715287 1.0443520908467303 \\nH -12.136349302654455 4.726812294295837 2.477945647566044 \\nH -14.420572659762145 4.553211744034213 3.444581396895999 \\nH -15.693806478196391 2.440952247850754 3.2924517975752554 \\nH -14.716350262168929 0.4569875915145198 2.1672627457762803 \\nH -9.751829757156596 1.2494030427056548 -1.1505615422598308 \\nH -8.098968729718068 -0.6017413173781349 -1.5743748684906809 \\nH -9.417146803055656 -1.0294071953337873 -2.5828746258234903 \\nH -10.262367296731512 -3.9090417163520366 -1.099791531767009 \\nH -10.046252126809934 -3.4515807318481198 -2.8082526243245742 \\nH -9.026829262397465 -4.6891803217988075 -2.08962804242248 \\nH -7.092535216903044 -2.284387686885299 0.10521508779469778 \\nH -8.625264848755535 -3.0086597778711797 0.6552559682152853 \\nH -7.397208079107455 -3.989218792562869 -0.170167230009309 \\nH -5.750314508075363 3.068546738978724 0.21629336477955063 \\nH -4.1911048816784335 3.5111669199242255 1.6030162323436992 \\nH -3.10733558042024 2.7803823426947947 2.7761746608829534 \\nH -1.9126098886467442 2.5328773734851633 0.7559247725359474 \\nH -2.6085913369560028 0.9108008322934767 1.0630905098965076 \\nH -3.5672556683318932 1.1782668690193088 -2.2996791015161526 \\nH -2.6573355743509457 0.2509689501261445 -1.124762970282971 \\nH -0.7891965957409718 1.949568056503545 -1.2384263346715096 \\nH -1.8070757582922912 3.005927550190887 -2.1848206304023785 \\nH -0.4772683075774317 -0.2704297692387549 -4.1630680474715485 \\nH -1.1777919458585788 -0.5915923741409187 -2.575168133757346 \\nH 1.4792134572597604 -0.6988032403174491 -2.9557895050713094 \\nH 1.3829830846264843 1.0712370431611187 -2.8860146694063022 \\nH 0.5678886075208432 -1.084367385936881 0.4598673467084197 \\nH 0.2345297815124394 -1.8358134864704783 -1.1138499243820883 \\nH 3.1254870981391565 0.0008011121469472522 -0.9380927487466882 \\nH 4.825814753422983 -2.264126544650657 -0.14355163447456384 \\nH 5.7857180081902655 -2.087685319537267 2.001718786435574 \\nH 7.029985120694003 -2.4225632413829197 0.7802489018678055 \\nH 8.768437407876585 -1.3692671348734875 2.0728557942793926 \\nH 8.450341769489494 -2.0241358077480944 4.261613869879568 \\nH 6.593949629322425 -0.06639032653071758 3.78483243327238 \\nH 8.227340244228303 0.5313048513470695 3.4995215791021006 \\nH 6.003408561094623 1.3473299537789702 2.0081904201685927 \\nH 8.22043629956145 0.14787994162277338 -0.30952229972921286 \\nH 9.5074239189032 1.4365427793993062 -1.7185606738350476 \\nH 9.489304217402703 2.7782152475763082 -0.5805991493764355 \\nH 10.995301843905201 2.712536260870022 1.469227821109106 \\nH 13.272036680757374 2.1665079783886125 2.2171211028157614 \\nH 13.614607553060534 -0.7486557055039781 -0.9410726727033162 \\nH 11.336265262861742 -0.19973529427513176 -1.693557894766378 \\nH 13.876280652136012 -1.758916775251009 2.482493383659591 \\nH 15.44407775012253 -2.502352183288906 2.8251812946548736 \\nH 14.749068279522755 -2.627737735306432 1.1981582860954885 \\nH 18.405269066597466 0.843696093662943 1.6035641759969947 \\nH 4.266990596464616 -0.07413346186788 -3.229461045265896 \\nH 5.65872044397439 -0.7001003674936072 -4.117105463017705 \\nH 5.913017829241349 0.37425778753159944 -2.7458835628957496 \\nH 7.227036767843015 -2.3743837584187046 -3.0579451640259494 \\nH 6.908718068095117 -3.022282364517678 -1.4481645451951592 \\nH 7.452646097085554 -1.3466664158937263 -1.6484371611159998 \\nH 5.0141304199121555 -3.104289430156901 -3.8087294515314363 \\nH 4.559790917166688 -3.7169229529518266 -2.2141561890234653 \\nH 3.5258180446510354 -2.546182823633882 -3.0513389937614384 \\nH -6.4196301557381465 -0.11847432081028855 3.0475215241143117 \\n\",\"xyz\");\n",
              "\tviewergrid_16559221313193858[0][1].addModel(\"135\\n energy: -212.169702618063 gnorm: 0.000157155514 xtb: 6.5.0 (97a52f5)\\nC           -7.23096055631610       -3.16009886113875        0.29727822770465\\nC           -6.17946726696826       -2.28056582566040        0.98971176602965\\nC           -6.71449606895854       -1.76937810448827        2.33509590266554\\nC           -7.76823522225435       -0.75657254046855        2.05256996108926\\nC           -7.78313501896895       -0.07736793345201        0.87209752003991\\nN           -8.84977092148273        0.78549919917650        0.83421517408075\\nC           -9.53952100407951        0.67300897339750        2.00987995651838\\nC          -10.68089584276928        1.32901037652304        2.44823772795587\\nC          -11.16682305705778        1.00215035580628        3.69665826602154\\nC          -10.53498718215444        0.04436127291506        4.49392823746026\\nC           -9.40168025561175       -0.61022011991873        4.06657261905320\\nC           -8.88628998226027       -0.30053469682132        2.80893476017799\\nC           -6.79327059046248       -0.23235941237395       -0.23403695412293\\nN           -5.72989211353779       -1.14480615128483        0.19059955909625\\nC           -4.80843673456095       -1.48769280457543       -0.87439921825705\\nC           -3.32159494877458       -1.29821607047828       -0.49575873030136\\nC           -2.68491363895717       -2.50751474646540        0.17047027333787\\nC           -3.07517127833470       -0.03836619372291        0.31865544227893\\nF           -2.66320036552765       -1.13200643726519       -1.73531798202543\\nC           -6.18301015357385        1.11199412932740       -0.57543510290029\\nC           -6.04688245661921        1.55546587464095       -1.88388690864749\\nF           -6.55974148110536        0.80058269017632       -2.88138119498028\\nC           -5.40644196226781        2.72578983576779       -2.24520084376523\\nC           -4.86664190249964        3.52979737254844       -1.24823844949940\\nO           -4.18880427755763        4.68511992198970       -1.45404523728840\\nC           -3.74417083068434        5.02537816115759       -2.75238050420057\\nC           -2.64846297190151        4.08366479563728       -3.28040642646390\\nO           -3.20926823363633        3.19174976279698       -4.22051932115387\\nC           -2.56934388484733        1.93949195745224       -4.31957037077271\\nC           -1.15662420796647        2.03336298935719       -4.92313629502475\\nO           -0.65867081447621        0.78713929922709       -5.36005029922632\\nC           -0.32426738401153       -0.13868686459336       -4.34776594212085\\nC            0.90892382448207        0.25756972025593       -3.51936435734672\\nO            0.68877308561141        1.26843025626987       -2.55009531478935\\nC           -0.00069856753662        0.84641959339276       -1.39433600066829\\nC            0.85730782718043        0.05256829531629       -0.40742121705453\\nO            0.36312722098743       -0.65960339265076        0.44584985477910\\nN            2.17758536831942        0.21672169789454       -0.58402178565754\\nC            3.16503809584569       -0.35474335381470        0.30297902891707\\nC            3.82062495507303        0.80905024802989        1.04297710189612\\nO            4.25183211753817        1.77689451681780        0.41863870033234\\nN            3.87740601700123        0.76131654776285        2.37850799469499\\nC            3.36713349749062       -0.27844084274140        3.25069064498974\\nC            3.73855615397059        0.18211711414694        4.66661018463956\\nO            2.77366365806202       -0.29140121340519        5.56826407238952\\nC            3.78550688277945        1.71094527992635        4.53065768653742\\nC            4.37981097724988        1.90389333916744        3.14416893292156\\nC            5.92457904561403        1.87114353547825        3.18813582352229\\nO            6.54363143741604        1.59300400863236        4.19510961493158\\nN            6.48129439010100        2.19818706505940        2.01387925281972\\nC            7.91296476424896        2.12079894859393        1.78604235724314\\nC            8.28976355408714        0.79020965734065        1.18766107298275\\nC            8.45743430553749       -0.31622530495812        2.01354165517938\\nC            8.77354219057169       -1.54773376570364        1.47979929521850\\nC            8.92572117025738       -1.71193348404840        0.10133571491523\\nC            8.75678441702411       -0.59999303098108       -0.72381480815018\\nC            8.43587127194628        0.63114309345125       -0.18365010728434\\nC            9.27538589329106       -3.01496304712943       -0.43672557296242\\nC            8.93272145383600       -3.61458460533575       -1.62663545807562\\nC            8.04887006528084       -3.06908286093531       -2.69594996684386\\nN            9.43929842601030       -4.86158763459059       -1.79970493796929\\nC           10.15225541372739       -5.24320775010810       -0.80722381377726\\nS           10.27850893608961       -4.10158686070521        0.48755552930461\\nC            4.20245618582128       -1.20889256263983       -0.47762786963564\\nC            4.80942780086890       -0.40467127582993       -1.62930016720167\\nC            5.31001580599000       -1.65129578309248        0.48067198000116\\nC            3.48968085180751       -2.44456007496535       -1.03188955782456\\nC           -5.02678272799008        3.15020578491145        0.08587393982604\\nC           -5.66232071209113        1.96675444359729        0.39465199635856\\nF           -5.75200164165911        1.63078160203760        1.69112095054406\\nH           -8.18780031641758       -2.64708771139523        0.24396372088685\\nH           -6.91750846212262       -3.41949057851318       -0.71189956741021\\nH           -7.36587237051206       -4.08092403030515        0.85883184348738\\nH           -5.28932017001274       -2.88902024277161        1.17364938903242\\nH           -7.11164768573982       -2.59890048576397        2.92198985119452\\nH           -5.89984856294432       -1.30826592851799        2.90015633523152\\nH           -9.07019213145117        1.41272472679145        0.07977369296832\\nH          -11.16940256500059        2.07001830330459        1.83195305924593\\nH          -12.05322081106979        1.49492577337252        4.06830980063796\\nH          -10.94975085299689       -0.18121632626296        5.46565791833900\\nH           -8.91680689191558       -1.34742595266840        4.68901883038719\\nH           -7.31242120556707       -0.60778160301203       -1.13811478911813\\nH           -4.98631434783006       -0.83983800047632       -1.73549354553324\\nH           -4.94452869244983       -2.52099296460391       -1.22081759326918\\nH           -3.10197299628383       -2.64057270451022        1.16320930312112\\nH           -2.85162875160382       -3.40631778022229       -0.41935039844005\\nH           -1.61384110099403       -2.33769188211547        0.26358453209034\\nH           -3.27918926296332        0.84414613232789       -0.28377528637937\\nH           -3.73702288011848       -0.04005303414779        1.17789763113515\\nH           -2.04110847854526       -0.01521770993592        0.65405849359819\\nH           -5.31323174083279        2.96109521750432       -3.29201160248200\\nH           -4.57074378859417        5.04695270714062       -3.47028001514898\\nH           -3.34884471936293        6.03588921201659       -2.63520205884331\\nH           -1.85144960437404        4.67272556182477       -3.75204952317546\\nH           -2.21670269978653        3.53207431809566       -2.43439640514814\\nH           -3.20076733901456        1.34180386386524       -4.98169826322647\\nH           -2.53703022544653        1.46116740148925       -3.32992178252794\\nH           -0.46704323760247        2.49852210786843       -4.20900867700825\\nH           -1.20485518610953        2.64833667777522       -5.82608164525306\\nH           -0.08443059369165       -1.05652011363218       -4.88976413311882\\nH           -1.17910717998815       -0.34119581751863       -3.69414009647179\\nH            1.30476423121825       -0.64616224918668       -3.03829511326805\\nH            1.66619935070153        0.67029876430994       -4.19143210323104\\nH           -0.32931664752334        1.75985812319971       -0.88719472755073\\nH           -0.88206039793998        0.24792694249479       -1.63523999158594\\nH            2.49366635194650        0.93714653444852       -1.21907774943062\\nH            2.61507953217998       -0.99887013224743        0.99274231939368\\nH            2.27564036407959       -0.35076254754965        3.18789411304900\\nH            3.80592434850060       -1.24888428348469        3.01850661007634\\nH            4.73835728452616       -0.18728243315576        4.93367995792810\\nH            3.01496774328407       -0.01491246267532        6.45847060849855\\nH            2.77235861186135        2.11060823261022        4.58344782560857\\nH            4.40930792567950        2.17301781174164        5.29326750798977\\nH            4.06145303778878        2.83077868426026        2.65575819772464\\nH            5.86878944314989        2.30798169060164        1.20938058851155\\nH            8.20103827818891        2.94012649098720        1.12321758206184\\nH            8.39691231242043        2.24511727102890        2.75818703705329\\nH            8.33798696302640       -0.20193321269829        3.08053186306226\\nH            8.90522977354298       -2.39966365380357        2.13095920543456\\nH            8.90869197150015       -0.69084101139966       -1.78724089636512\\nH            8.31282568101460        1.48276572406236       -0.83733993365838\\nH            7.30820949748366       -2.39133883913986       -2.27915838225163\\nH            7.55119773379479       -3.89806749354066       -3.19306413451489\\nH            8.63554938855370       -2.53403025179048       -3.44259562895795\\nH           10.64242524375066       -6.19432468948029       -0.75062071983540\\nH            4.07539662768478       -0.23208385472862       -2.41281356491161\\nH            5.64158396679327       -0.95231631586031       -2.06441381349234\\nH            5.17878219647281        0.55415478173449       -1.27652283674439\\nH            6.02935990594419       -2.27594704014301       -0.04371914728222\\nH            4.90185861398408       -2.23398587916865        1.30318001282101\\nH            5.84431272229480       -0.79586835319292        0.88758130705590\\nH            4.17954696298571       -3.04049762235855       -1.62447161279838\\nH            3.10512914356612       -3.06293752364986       -0.22424187530489\\nH            2.65348764581768       -2.15606612233419       -1.66441307273856\\nH           -4.62967176275575        3.77229762730365        0.87051497552212\\n\",\"xyz\");\n",
              "\tviewergrid_16559221313193858[0][0].setStyle({\"stick\": {}});\n",
              "\tviewergrid_16559221313193858[0][1].setStyle({\"stick\": {}});\n",
              "\tviewergrid_16559221313193858[0][0].zoomTo();\n",
              "\tviewergrid_16559221313193858[0][1].zoomTo();\n",
              "\tviewergrid_16559221313193858[0][0].render();\n",
              "\tviewergrid_16559221313193858[0][1].render();\n",
              "viewergrid_16559221313193858[0][1].render();\n",
              "viewergrid_16559221313193858[0][0].render();\n",
              "});\n",
              "</script>"
            ]
          },
          "metadata": {}
        },
        {
          "output_type": "execute_result",
          "data": {
            "text/plain": [
              "<py3Dmol.view at 0x7f554e0b66d0>"
            ]
          },
          "metadata": {},
          "execution_count": 17
        }
      ]
    }
  ]
}